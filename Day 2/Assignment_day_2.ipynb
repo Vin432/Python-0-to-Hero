{
  "nbformat": 4,
  "nbformat_minor": 0,
  "metadata": {
    "colab": {
      "name": "Assignment day 2.ipynb",
      "provenance": [],
      "collapsed_sections": []
    },
    "kernelspec": {
      "name": "python3",
      "display_name": "Python 3"
    },
    "language_info": {
      "name": "python"
    }
  },
  "cells": [
    {
      "cell_type": "code",
      "metadata": {
        "colab": {
          "base_uri": "https://localhost:8080/"
        },
        "id": "zgk3u5wYv4uL",
        "outputId": "1fb3bed0-99b2-4022-d2e7-201a4a542274"
      },
      "source": [
        "#no of occurences of each character in a string called hello\n",
        "string = \"hello\"\n",
        "char = { } #dictionary\n",
        "for i in string:\n",
        "\tif i in char:\n",
        "\t\tchar[i] += 1\n",
        "\telse:\n",
        "\t\tchar[i] = 1\n",
        "\n",
        "print (\"no of occurences of each character in a string hello is :\\n \"\t+ str(char))\n"
      ],
      "execution_count": 5,
      "outputs": [
        {
          "output_type": "stream",
          "text": [
            "no of occurences of each character in a string hello is :\n",
            " {'h': 1, 'e': 1, 'l': 2, 'o': 1}\n"
          ],
          "name": "stdout"
        }
      ]
    },
    {
      "cell_type": "code",
      "metadata": {
        "id": "WXRgCwHzxCwB"
      },
      "source": [
        ""
      ],
      "execution_count": null,
      "outputs": []
    }
  ]
}