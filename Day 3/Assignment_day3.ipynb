{
  "nbformat": 4,
  "nbformat_minor": 0,
  "metadata": {
    "colab": {
      "name": "Assignment day3.ipynb",
      "provenance": [],
      "collapsed_sections": []
    },
    "kernelspec": {
      "name": "python3",
      "display_name": "Python 3"
    },
    "language_info": {
      "name": "python"
    }
  },
  "cells": [
    {
      "cell_type": "code",
      "metadata": {
        "colab": {
          "base_uri": "https://localhost:8080/"
        },
        "id": "2ZGqVllr60rY",
        "outputId": "c27670f4-ce9d-4c48-ba3e-b18839ccd270"
      },
      "source": [
        "# Project: WAP to generate everytime a 6 character OTP.\n",
        "import random\n",
        "import string\n",
        "\n",
        "id = ''\n",
        "characters_list=list(string.ascii_letters + string.digits)\n",
        "\n",
        "for i in range(6):\n",
        "  id+=random.choice(characters_list)\n",
        "\n",
        "\n",
        "print(id)\n",
        "\n"
      ],
      "execution_count": 35,
      "outputs": [
        {
          "output_type": "stream",
          "text": [
            "ARWIkA\n"
          ],
          "name": "stdout"
        }
      ]
    },
    {
      "cell_type": "code",
      "metadata": {
        "colab": {
          "base_uri": "https://localhost:8080/"
        },
        "id": "Osx6vasu62mA",
        "outputId": "d112ecf3-d234-4d1d-d5f8-22e562bc7f2a"
      },
      "source": [
        "#WAP to 6 digit OTP\n",
        "import random\n",
        "for i in range(0,6):\n",
        " print(random.randint(0,9),end='')"
      ],
      "execution_count": 18,
      "outputs": [
        {
          "output_type": "stream",
          "text": [
            "512581"
          ],
          "name": "stdout"
        }
      ]
    },
    {
      "cell_type": "code",
      "metadata": {
        "colab": {
          "base_uri": "https://localhost:8080/"
        },
        "id": "RCVed_ZxCbMl",
        "outputId": "be4b4a36-361b-4d59-e0a0-6160d7fa6105"
      },
      "source": [
        " # Assignment 2 - Implement a decorator mod_div() which assures that the numerator is always greater than the denominat\n",
        "# e.g. if a = 2, b = 4, then div(a, b) should return 2.0 as the output and not 0.5\n",
        "\n",
        "def div(a,b):\n",
        "  print(a/b)\n",
        "\n",
        "# Decorator\n",
        "\n",
        "def mod_div(fun):\n",
        "  def inner(a,b):\n",
        "    if a<b:\n",
        "      a,b=b,a\n",
        "    fun(a,b)\n",
        "\n",
        "  return inner\n",
        "\n",
        "div = mod_div(div)\n",
        "div(2,4)"
      ],
      "execution_count": 32,
      "outputs": [
        {
          "output_type": "stream",
          "text": [
            "2.0\n"
          ],
          "name": "stdout"
        }
      ]
    },
    {
      "cell_type": "code",
      "metadata": {
        "colab": {
          "base_uri": "https://localhost:8080/"
        },
        "id": "UfkSBjpECpaw",
        "outputId": "a53da39f-a4c8-4339-c75c-8b79b4000635"
      },
      "source": [
        "#for div(4,2)\n",
        "def div(a,b):\n",
        "  print(a/b)\n",
        "\n",
        "# Decorator\n",
        "\n",
        "def mod_div(fun):\n",
        "  def inner(a,b):\n",
        "    if a<b:\n",
        "      a,b=b,a\n",
        "    fun(a,b)\n",
        "\n",
        "  return inner\n",
        "\n",
        "div = mod_div(div)\n",
        "div(4,2)"
      ],
      "execution_count": 34,
      "outputs": [
        {
          "output_type": "stream",
          "text": [
            "2.0\n"
          ],
          "name": "stdout"
        }
      ]
    },
    {
      "cell_type": "code",
      "metadata": {
        "id": "Q5x-1O8uFkK9"
      },
      "source": [
        ""
      ],
      "execution_count": null,
      "outputs": []
    }
  ]
}