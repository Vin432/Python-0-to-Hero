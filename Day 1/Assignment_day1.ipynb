{
  "nbformat": 4,
  "nbformat_minor": 0,
  "metadata": {
    "colab": {
      "name": "Assignment day1.ipynb",
      "provenance": [],
      "collapsed_sections": []
    },
    "kernelspec": {
      "name": "python3",
      "display_name": "Python 3"
    },
    "language_info": {
      "name": "python"
    }
  },
  "cells": [
    {
      "cell_type": "code",
      "metadata": {
        "colab": {
          "base_uri": "https://localhost:8080/",
          "height": 0
        },
        "id": "h37OzbV-h8ty",
        "outputId": "ab8224dc-5912-4786-fe00-658cc6e28f81"
      },
      "source": [
        "# Take two inputs and store in variable x and y find x to the power y\n",
        "# wrong program\n",
        "x=int(input(\"enter the 1st value\"))\n",
        "y=int(input(\"enter the 2nd value\"))\n",
        "res = x^y\n",
        "print(f'ans:{res}')"
      ],
      "execution_count": 2,
      "outputs": [
        {
          "output_type": "stream",
          "text": [
            "enter the 1st value2\n",
            "enter the 2nd value2\n",
            "ans:0\n"
          ],
          "name": "stdout"
        }
      ]
    },
    {
      "cell_type": "code",
      "metadata": {
        "colab": {
          "base_uri": "https://localhost:8080/",
          "height": 0
        },
        "id": "qbJs11SOj-Pi",
        "outputId": "fdde9d9f-eb46-42f2-84cb-9dfba0b1b768"
      },
      "source": [
        "# Take two inputs and store in variable x and y find x to the power y\n",
        "\n",
        "#correct program\n",
        "x=int(input(\"enter the 1st value\"))\n",
        "y=int(input(\"enter the 2nd value\"))\n",
        "z=1\n",
        "for i in range(1, y + 1):\n",
        "    z = z * x\n",
        "\n",
        "print(\"The Result of {0} z {1} = {2}\".format(x, y, z))"
      ],
      "execution_count": 5,
      "outputs": [
        {
          "output_type": "stream",
          "text": [
            "enter the 1st value2\n",
            "enter the 2nd value3\n",
            "The Result of 2 z 3 = 8\n"
          ],
          "name": "stdout"
        }
      ]
    },
    {
      "cell_type": "code",
      "metadata": {
        "colab": {
          "base_uri": "https://localhost:8080/",
          "height": 0
        },
        "id": "NpYKQzuCkRIA",
        "outputId": "1d6fd87a-c7b9-4ffd-b4a1-4e29a4b3755e"
      },
      "source": [
        "#correct program\n",
        "x=int(input(\"enter the 1st value\"))\n",
        "y=int(input(\"enter the 2nd value\"))\n",
        "z=1\n",
        "for i in range(1, y + 1):\n",
        "    z = z * x\n",
        "\n",
        "print(\"The Result of {0} z {1} = {2}\".format(x, y, z))"
      ],
      "execution_count": 6,
      "outputs": [
        {
          "output_type": "stream",
          "text": [
            "enter the 1st value5\n",
            "enter the 2nd value2\n",
            "The Result of 5 z 2 = 25\n"
          ],
          "name": "stdout"
        }
      ]
    },
    {
      "cell_type": "code",
      "metadata": {
        "id": "R5X7rq0emQ2O"
      },
      "source": [
        ""
      ],
      "execution_count": null,
      "outputs": []
    }
  ]
}